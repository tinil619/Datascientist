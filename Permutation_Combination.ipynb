{
  "nbformat": 4,
  "nbformat_minor": 0,
  "metadata": {
    "colab": {
      "provenance": [],
      "authorship_tag": "ABX9TyPJFzNNydkD3ew3u/CRZRLD",
      "include_colab_link": true
    },
    "kernelspec": {
      "name": "python3",
      "display_name": "Python 3"
    },
    "language_info": {
      "name": "python"
    }
  },
  "cells": [
    {
      "cell_type": "markdown",
      "metadata": {
        "id": "view-in-github",
        "colab_type": "text"
      },
      "source": [
        "<a href=\"https://colab.research.google.com/github/tinil619/Datascientist/blob/main/Permutation_Combination.ipynb\" target=\"_parent\"><img src=\"https://colab.research.google.com/assets/colab-badge.svg\" alt=\"Open In Colab\"/></a>"
      ]
    },
    {
      "cell_type": "code",
      "source": [
        "pip install more-itertools"
      ],
      "metadata": {
        "colab": {
          "base_uri": "https://localhost:8080/"
        },
        "id": "zU_kTXHC88Us",
        "outputId": "ab844900-8acc-46f1-c7a3-733399300d99"
      },
      "execution_count": 9,
      "outputs": [
        {
          "output_type": "stream",
          "name": "stdout",
          "text": [
            "Looking in indexes: https://pypi.org/simple, https://us-python.pkg.dev/colab-wheels/public/simple/\n",
            "Requirement already satisfied: more-itertools in /usr/local/lib/python3.7/dist-packages (9.0.0)\n"
          ]
        }
      ]
    },
    {
      "cell_type": "code",
      "execution_count": 16,
      "metadata": {
        "id": "HYnsdp2zubBI",
        "colab": {
          "base_uri": "https://localhost:8080/"
        },
        "outputId": "69bff7e9-63d7-41db-9ce7-4864547a143b"
      },
      "outputs": [
        {
          "output_type": "stream",
          "name": "stdout",
          "text": [
            "(1, 2)\n",
            "(1, 3)\n",
            "(1, 4)\n",
            "(2, 1)\n",
            "(2, 3)\n",
            "(2, 4)\n",
            "(3, 1)\n",
            "(3, 2)\n",
            "(3, 4)\n",
            "(4, 1)\n",
            "(4, 2)\n",
            "(4, 3)\n",
            "The permutation is:  12\n"
          ]
        }
      ],
      "source": [
        "from itertools import *\n",
        "count = 0\n",
        "\n",
        "dataset = [1,2,3,4]\n",
        "perm = permutations(dataset,2)\n",
        "for i in list(perm):\n",
        "  print(i)\n",
        "  count+=1\n",
        "\n",
        "print(\"The permutation is: \",count)\n"
      ]
    },
    {
      "cell_type": "code",
      "source": [
        "from itertools import *\n",
        "count = 0\n",
        "\n",
        "dataset = [1,2,3,4]\n",
        "perm = combinations(dataset,2)\n",
        "for i in list(perm):\n",
        "  print(i)\n",
        "  count+=1\n",
        "\n",
        "print(\"The combination is: \",count)\n"
      ],
      "metadata": {
        "id": "DBOZLYRpA1Tu",
        "outputId": "c4682443-55a1-46d4-960d-4c92dbfe2543",
        "colab": {
          "base_uri": "https://localhost:8080/"
        }
      },
      "execution_count": 18,
      "outputs": [
        {
          "output_type": "stream",
          "name": "stdout",
          "text": [
            "(1, 2)\n",
            "(1, 3)\n",
            "(1, 4)\n",
            "(2, 3)\n",
            "(2, 4)\n",
            "(3, 4)\n",
            "The combination is:  6\n"
          ]
        }
      ]
    }
  ]
}